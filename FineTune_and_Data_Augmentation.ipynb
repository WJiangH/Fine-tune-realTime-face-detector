{
 "cells": [
  {
   "cell_type": "markdown",
   "id": "bb9ddc11",
   "metadata": {},
   "source": [
    "# using very little data for image classification by the strategies of data augmentation and fine-tune\n",
    "\n",
    "Part of the code is referred to the [blog](https://blog.keras.io/building-powerful-image-classification-models-using-very-little-data.html)\n",
    "\n",
    "the outline will go as follows:\n",
    "- collection data from the kaggle [cats_and_dogs](https://www.kaggle.com/c/dogs-vs-cats/data) and use only 2800 data points, where `2000` for training and validation and `800` for testing.\n",
    "- training a small network from scratch as a baseline\n",
    "- apply the data augmentation\n",
    "- using the bottleneck features of a pre-trained network\n",
    "- fine-tuning the top layers of a pre-trained network\n",
    "\n",
    "The main purpose is to familar with some Keras features:\n",
    "- `fit_generator` for training Keras a model using Python data generators\n",
    "- `ImageDataGenerator` for real-time data augmentation\n",
    "- `layer freezing and` model fine-tuning"
   ]
  },
  {
   "cell_type": "markdown",
   "id": "5c52f38d",
   "metadata": {},
   "source": [
    "## 1. Packages"
   ]
  },
  {
   "cell_type": "code",
   "execution_count": 79,
   "id": "15372cd3",
   "metadata": {},
   "outputs": [],
   "source": [
    "import tensorflow as tf\n",
    "import matplotlib.pyplot as plt\n",
    "import numpy as np\n",
    "\n",
    "from keras.preprocessing.image import ImageDataGenerator\n",
    "from keras.models import Sequential, Model\n",
    "from keras.layers import Conv2D, MaxPooling2D, BatchNormalization\n",
    "from keras.layers import Activation, Dropout, Flatten, Dense, Input\n",
    "from keras import backend as K\n",
    "from tensorflow.keras.preprocessing import image_dataset_from_directory\n",
    "from tensorflow.keras.preprocessing.image import ImageDataGenerator, array_to_img, img_to_array, load_img\n",
    "from keras import applications\n",
    "from tensorflow.keras.preprocessing import image"
   ]
  },
  {
   "cell_type": "markdown",
   "id": "788ea9ad",
   "metadata": {},
   "source": [
    "## 2. data preparation\n",
    "\n",
    "a training data directory and validation data directory containing one subdirectory per image class, filled with .png or .jpg images:\n",
    "\n",
    "data/<br>\n",
    "&emsp;&emsp;train/<br>\n",
    "&emsp;&emsp;&emsp;&emsp;cats/<br>\n",
    "&emsp;&emsp;&emsp;&emsp;&emsp;&emsp;cat001.jpg<br>\n",
    "&emsp;&emsp;&emsp;&emsp;&emsp;&emsp;cat002.jpg<br>\n",
    "&emsp;&emsp;&emsp;&emsp;&emsp;&emsp;...<br>\n",
    "&emsp;&emsp;&emsp;&emsp;dogs/<br>\n",
    "&emsp;&emsp;&emsp;&emsp;&emsp;&emsp;dog001.jpg<br>\n",
    "&emsp;&emsp;&emsp;&emsp;&emsp;&emsp;dog002.jpg<br>\n",
    "&emsp;&emsp;&emsp;&emsp;&emsp;&emsp;...<br>    \n",
    "&emsp;&emsp;validation/<br>\n",
    "&emsp;&emsp;&emsp;&emsp;cats/<br>\n",
    "&emsp;&emsp;&emsp;&emsp;&emsp;&emsp;cat001.jpg<br>\n",
    "&emsp;&emsp;&emsp;&emsp;&emsp;&emsp;cat002.jpg<br>\n",
    "&emsp;&emsp;&emsp;&emsp;&emsp;&emsp;...<br>\n",
    "&emsp;&emsp;&emsp;&emsp;dogs/<br>\n",
    "&emsp;&emsp;&emsp;&emsp;&emsp;&emsp;dog001.jpg<br>\n",
    "&emsp;&emsp;&emsp;&emsp;&emsp;&emsp;dog002.jpg<br>\n",
    "&emsp;&emsp;&emsp;&emsp;&emsp;&emsp;...<br>"
   ]
  },
  {
   "cell_type": "markdown",
   "id": "80f0bdf5",
   "metadata": {},
   "source": [
    "###  load dataset and set image size\n",
    "\n",
    "- training and validation dataset are loaded using `image_dataset_from_directory`\n",
    "- image size is set as `(150, 150)`\n",
    "- training and validation examples are: `2000` and `800`"
   ]
  },
  {
   "cell_type": "code",
   "execution_count": 2,
   "id": "8964a8af",
   "metadata": {},
   "outputs": [],
   "source": [
    "train_data_dir = 'data/train'\n",
    "validation_data_dir = 'data/validation'\n",
    "img_width, img_height = 150, 150\n",
    "nb_train_samples = 2000\n",
    "nb_validation_samples = 800\n",
    "batch_size = 16"
   ]
  },
  {
   "cell_type": "code",
   "execution_count": 21,
   "id": "62d3ad37",
   "metadata": {},
   "outputs": [
    {
     "name": "stdout",
     "output_type": "stream",
     "text": [
      "Found 2000 files belonging to 2 classes.\n",
      "Found 800 files belonging to 2 classes.\n"
     ]
    }
   ],
   "source": [
    "train_dataset = image_dataset_from_directory(train_data_dir,\n",
    "                                             shuffle=True,\n",
    "                                             batch_size=batch_size,\n",
    "                                             image_size=(img_width, img_height),\n",
    "                                             label_mode='categorical',\n",
    "                                             seed=0)\n",
    "validation_dataset = image_dataset_from_directory(validation_data_dir,\n",
    "                                             shuffle=True,\n",
    "                                             batch_size=batch_size,\n",
    "                                             image_size=(img_width, img_height),\n",
    "                                             label_mode='categorical',\n",
    "                                             seed=0)"
   ]
  },
  {
   "cell_type": "code",
   "execution_count": 31,
   "id": "f09309d1",
   "metadata": {},
   "outputs": [
    {
     "data": {
      "text/plain": [
       "['cats', 'dogs']"
      ]
     },
     "execution_count": 31,
     "metadata": {},
     "output_type": "execute_result"
    }
   ],
   "source": [
    "# the class names\n",
    "train_dataset.class_names"
   ]
  },
  {
   "cell_type": "code",
   "execution_count": 22,
   "id": "4df1272f",
   "metadata": {},
   "outputs": [],
   "source": [
    "#define the image shape\n",
    "if K.image_data_format() == 'channels_first':\n",
    "    input_shape = (3, img_width, img_height)\n",
    "else:\n",
    "    input_shape = (img_width, img_height, 3)"
   ]
  },
  {
   "cell_type": "markdown",
   "id": "dcc3d51b",
   "metadata": {},
   "source": [
    "## 3. Define a simple ConvNet as a baseline\n",
    "- use several `Conv2D` and `MaxPooling` layers"
   ]
  },
  {
   "cell_type": "code",
   "execution_count": 23,
   "id": "b35d1081",
   "metadata": {},
   "outputs": [],
   "source": [
    "# create a base model, one may add more conv2d block to get a better result\n",
    "def final_model(inputs):\n",
    "    x = Conv2D(32, (3, 3), activation='relu', padding='SAME')(inputs)\n",
    "    x = BatchNormalization()(x)\n",
    "    x = MaxPooling2D((2, 2))(x)\n",
    "    x = Conv2D(32, (3, 3), activation='relu', padding='SAME')(x)\n",
    "    x = BatchNormalization()(x)\n",
    "    x = MaxPooling2D((2, 2))(x)\n",
    "    x = Conv2D(64, (3, 3), activation='relu', padding='SAME')(x)\n",
    "    x = BatchNormalization()(x)\n",
    "    x = MaxPooling2D((2, 2))(x)\n",
    "    x = Flatten()(x)\n",
    "    x = Dense(64, 'relu')(x)\n",
    "    x = Dropout(0.5)(x)\n",
    "    output = Dense(2, 'sigmoid')(x)\n",
    "    \n",
    "    model = Model(inputs=inputs, outputs=output)\n",
    "    \n",
    "    return model"
   ]
  },
  {
   "cell_type": "code",
   "execution_count": 24,
   "id": "f6634c64",
   "metadata": {},
   "outputs": [],
   "source": [
    "inputs = Input(shape=input_shape)\n",
    "base_model = final_model(inputs)"
   ]
  },
  {
   "cell_type": "code",
   "execution_count": 25,
   "id": "ce4307e3",
   "metadata": {},
   "outputs": [
    {
     "name": "stdout",
     "output_type": "stream",
     "text": [
      "Model: \"model_3\"\n",
      "_________________________________________________________________\n",
      " Layer (type)                Output Shape              Param #   \n",
      "=================================================================\n",
      " input_4 (InputLayer)        [(None, 150, 150, 3)]     0         \n",
      "                                                                 \n",
      " conv2d_9 (Conv2D)           (None, 150, 150, 32)      896       \n",
      "                                                                 \n",
      " batch_normalization_9 (Batc  (None, 150, 150, 32)     128       \n",
      " hNormalization)                                                 \n",
      "                                                                 \n",
      " max_pooling2d_9 (MaxPooling  (None, 75, 75, 32)       0         \n",
      " 2D)                                                             \n",
      "                                                                 \n",
      " conv2d_10 (Conv2D)          (None, 75, 75, 32)        9248      \n",
      "                                                                 \n",
      " batch_normalization_10 (Bat  (None, 75, 75, 32)       128       \n",
      " chNormalization)                                                \n",
      "                                                                 \n",
      " max_pooling2d_10 (MaxPoolin  (None, 37, 37, 32)       0         \n",
      " g2D)                                                            \n",
      "                                                                 \n",
      " conv2d_11 (Conv2D)          (None, 37, 37, 64)        18496     \n",
      "                                                                 \n",
      " batch_normalization_11 (Bat  (None, 37, 37, 64)       256       \n",
      " chNormalization)                                                \n",
      "                                                                 \n",
      " max_pooling2d_11 (MaxPoolin  (None, 18, 18, 64)       0         \n",
      " g2D)                                                            \n",
      "                                                                 \n",
      " flatten_3 (Flatten)         (None, 20736)             0         \n",
      "                                                                 \n",
      " dense_6 (Dense)             (None, 64)                1327168   \n",
      "                                                                 \n",
      " dropout_3 (Dropout)         (None, 64)                0         \n",
      "                                                                 \n",
      " dense_7 (Dense)             (None, 2)                 130       \n",
      "                                                                 \n",
      "=================================================================\n",
      "Total params: 1,356,450\n",
      "Trainable params: 1,356,194\n",
      "Non-trainable params: 256\n",
      "_________________________________________________________________\n"
     ]
    }
   ],
   "source": [
    "base_model.summary()\n",
    "# tf.keras.utils.plot_model(base_model, show_shapes=True)"
   ]
  },
  {
   "cell_type": "code",
   "execution_count": 28,
   "id": "516f94d0",
   "metadata": {},
   "outputs": [],
   "source": [
    "# compile the base model\n",
    "base_model.compile(loss='categorical_crossentropy',\n",
    "              optimizer='rmsprop',\n",
    "              metrics=['accuracy'])"
   ]
  },
  {
   "cell_type": "code",
   "execution_count": 29,
   "id": "5dbd9601",
   "metadata": {},
   "outputs": [
    {
     "name": "stdout",
     "output_type": "stream",
     "text": [
      "Epoch 1/50\n"
     ]
    },
    {
     "name": "stderr",
     "output_type": "stream",
     "text": [
      "2022-10-11 17:44:21.041778: I tensorflow/core/grappler/optimizers/custom_graph_optimizer_registry.cc:114] Plugin optimizer for device_type GPU is enabled.\n"
     ]
    },
    {
     "name": "stdout",
     "output_type": "stream",
     "text": [
      "125/125 [==============================] - ETA: 0s - loss: 0.7355 - accuracy: 0.6180"
     ]
    },
    {
     "name": "stderr",
     "output_type": "stream",
     "text": [
      "2022-10-11 17:44:25.667485: I tensorflow/core/grappler/optimizers/custom_graph_optimizer_registry.cc:114] Plugin optimizer for device_type GPU is enabled.\n"
     ]
    },
    {
     "name": "stdout",
     "output_type": "stream",
     "text": [
      "125/125 [==============================] - 6s 40ms/step - loss: 0.7355 - accuracy: 0.6180 - val_loss: 0.6670 - val_accuracy: 0.6387\n",
      "Epoch 2/50\n",
      "125/125 [==============================] - 5s 39ms/step - loss: 0.6746 - accuracy: 0.6265 - val_loss: 0.7163 - val_accuracy: 0.5475\n",
      "Epoch 3/50\n",
      "125/125 [==============================] - 5s 40ms/step - loss: 0.6936 - accuracy: 0.6310 - val_loss: 0.7993 - val_accuracy: 0.6025\n",
      "Epoch 4/50\n",
      "125/125 [==============================] - 5s 39ms/step - loss: 0.6294 - accuracy: 0.6470 - val_loss: 0.6820 - val_accuracy: 0.6662\n",
      "Epoch 5/50\n",
      "125/125 [==============================] - 5s 39ms/step - loss: 0.6467 - accuracy: 0.6595 - val_loss: 0.6509 - val_accuracy: 0.5737\n",
      "Epoch 6/50\n",
      "125/125 [==============================] - 5s 39ms/step - loss: 0.6641 - accuracy: 0.6630 - val_loss: 0.6848 - val_accuracy: 0.6400\n",
      "Epoch 7/50\n",
      "125/125 [==============================] - 5s 40ms/step - loss: 0.6093 - accuracy: 0.6785 - val_loss: 0.7400 - val_accuracy: 0.6725\n",
      "Epoch 8/50\n",
      "125/125 [==============================] - 5s 39ms/step - loss: 0.6122 - accuracy: 0.6835 - val_loss: 0.8377 - val_accuracy: 0.6987\n",
      "Epoch 9/50\n",
      "125/125 [==============================] - 5s 40ms/step - loss: 0.5816 - accuracy: 0.7125 - val_loss: 0.6801 - val_accuracy: 0.6962\n",
      "Epoch 10/50\n",
      "125/125 [==============================] - 5s 39ms/step - loss: 0.5339 - accuracy: 0.7260 - val_loss: 0.6954 - val_accuracy: 0.6762\n",
      "Epoch 11/50\n",
      "125/125 [==============================] - 5s 40ms/step - loss: 0.5462 - accuracy: 0.7460 - val_loss: 0.6402 - val_accuracy: 0.6325\n",
      "Epoch 12/50\n",
      "125/125 [==============================] - 5s 39ms/step - loss: 0.5045 - accuracy: 0.7795 - val_loss: 0.8481 - val_accuracy: 0.7100\n",
      "Epoch 13/50\n",
      "125/125 [==============================] - 5s 39ms/step - loss: 0.4379 - accuracy: 0.8060 - val_loss: 0.6173 - val_accuracy: 0.7125\n",
      "Epoch 14/50\n",
      "125/125 [==============================] - 5s 40ms/step - loss: 0.4036 - accuracy: 0.8225 - val_loss: 0.9282 - val_accuracy: 0.7075\n",
      "Epoch 15/50\n",
      "125/125 [==============================] - 5s 39ms/step - loss: 0.3639 - accuracy: 0.8425 - val_loss: 0.7689 - val_accuracy: 0.7325\n",
      "Epoch 16/50\n",
      "125/125 [==============================] - 5s 39ms/step - loss: 0.3502 - accuracy: 0.8555 - val_loss: 0.9699 - val_accuracy: 0.6850\n",
      "Epoch 17/50\n",
      "125/125 [==============================] - 5s 40ms/step - loss: 0.3213 - accuracy: 0.8635 - val_loss: 0.8478 - val_accuracy: 0.6937\n",
      "Epoch 18/50\n",
      "125/125 [==============================] - 5s 40ms/step - loss: 0.2963 - accuracy: 0.8845 - val_loss: 0.9023 - val_accuracy: 0.7262\n",
      "Epoch 19/50\n",
      "125/125 [==============================] - 5s 39ms/step - loss: 0.2600 - accuracy: 0.9005 - val_loss: 1.0917 - val_accuracy: 0.7312\n",
      "Epoch 20/50\n",
      "125/125 [==============================] - 5s 41ms/step - loss: 0.2597 - accuracy: 0.9035 - val_loss: 1.1287 - val_accuracy: 0.7400\n",
      "Epoch 21/50\n",
      "125/125 [==============================] - 5s 40ms/step - loss: 0.2508 - accuracy: 0.9125 - val_loss: 0.8337 - val_accuracy: 0.7250\n",
      "Epoch 22/50\n",
      "125/125 [==============================] - 5s 40ms/step - loss: 0.2133 - accuracy: 0.9260 - val_loss: 1.1401 - val_accuracy: 0.7175\n",
      "Epoch 23/50\n",
      "125/125 [==============================] - 5s 39ms/step - loss: 0.2144 - accuracy: 0.9260 - val_loss: 0.9846 - val_accuracy: 0.7225\n",
      "Epoch 24/50\n",
      "125/125 [==============================] - 5s 40ms/step - loss: 0.2207 - accuracy: 0.9345 - val_loss: 1.2090 - val_accuracy: 0.6837\n",
      "Epoch 25/50\n",
      "125/125 [==============================] - 5s 40ms/step - loss: 0.1626 - accuracy: 0.9400 - val_loss: 2.0859 - val_accuracy: 0.6737\n",
      "Epoch 26/50\n",
      "125/125 [==============================] - 5s 40ms/step - loss: 0.1636 - accuracy: 0.9425 - val_loss: 1.0083 - val_accuracy: 0.7487\n",
      "Epoch 27/50\n",
      "125/125 [==============================] - 5s 40ms/step - loss: 0.1557 - accuracy: 0.9505 - val_loss: 1.2837 - val_accuracy: 0.7462\n",
      "Epoch 28/50\n",
      "125/125 [==============================] - 5s 40ms/step - loss: 0.1167 - accuracy: 0.9590 - val_loss: 2.8445 - val_accuracy: 0.7475\n",
      "Epoch 29/50\n",
      "125/125 [==============================] - 5s 40ms/step - loss: 0.1569 - accuracy: 0.9520 - val_loss: 1.3172 - val_accuracy: 0.7437\n",
      "Epoch 30/50\n",
      "125/125 [==============================] - 5s 39ms/step - loss: 0.1411 - accuracy: 0.9530 - val_loss: 1.3142 - val_accuracy: 0.7175\n",
      "Epoch 31/50\n",
      "125/125 [==============================] - 5s 40ms/step - loss: 0.1086 - accuracy: 0.9695 - val_loss: 2.2499 - val_accuracy: 0.7587\n",
      "Epoch 32/50\n",
      "125/125 [==============================] - 5s 41ms/step - loss: 0.1192 - accuracy: 0.9645 - val_loss: 1.4765 - val_accuracy: 0.7012\n",
      "Epoch 33/50\n",
      "125/125 [==============================] - 5s 41ms/step - loss: 0.1042 - accuracy: 0.9655 - val_loss: 1.3837 - val_accuracy: 0.7637\n",
      "Epoch 34/50\n",
      "125/125 [==============================] - 5s 40ms/step - loss: 0.0904 - accuracy: 0.9775 - val_loss: 1.9953 - val_accuracy: 0.7487\n",
      "Epoch 35/50\n",
      "125/125 [==============================] - 5s 42ms/step - loss: 0.0848 - accuracy: 0.9765 - val_loss: 2.7010 - val_accuracy: 0.7088\n",
      "Epoch 36/50\n",
      "125/125 [==============================] - 5s 41ms/step - loss: 0.0469 - accuracy: 0.9845 - val_loss: 2.9524 - val_accuracy: 0.7000\n",
      "Epoch 37/50\n",
      "125/125 [==============================] - 5s 40ms/step - loss: 0.0860 - accuracy: 0.9775 - val_loss: 3.3171 - val_accuracy: 0.7375\n",
      "Epoch 38/50\n",
      "125/125 [==============================] - 5s 40ms/step - loss: 0.0628 - accuracy: 0.9780 - val_loss: 2.0094 - val_accuracy: 0.7275\n",
      "Epoch 39/50\n",
      "125/125 [==============================] - 5s 40ms/step - loss: 0.0842 - accuracy: 0.9760 - val_loss: 1.2615 - val_accuracy: 0.7088\n",
      "Epoch 40/50\n",
      "125/125 [==============================] - 5s 40ms/step - loss: 0.0635 - accuracy: 0.9805 - val_loss: 2.3500 - val_accuracy: 0.7462\n",
      "Epoch 41/50\n",
      "125/125 [==============================] - 5s 40ms/step - loss: 0.0617 - accuracy: 0.9855 - val_loss: 2.4053 - val_accuracy: 0.7088\n",
      "Epoch 42/50\n",
      "125/125 [==============================] - 5s 40ms/step - loss: 0.1284 - accuracy: 0.9730 - val_loss: 2.7634 - val_accuracy: 0.6387\n",
      "Epoch 43/50\n",
      "125/125 [==============================] - 5s 40ms/step - loss: 0.0623 - accuracy: 0.9825 - val_loss: 3.5843 - val_accuracy: 0.7387\n",
      "Epoch 44/50\n",
      "125/125 [==============================] - 5s 40ms/step - loss: 0.0691 - accuracy: 0.9835 - val_loss: 2.3828 - val_accuracy: 0.7400\n",
      "Epoch 45/50\n",
      "125/125 [==============================] - 5s 39ms/step - loss: 0.0809 - accuracy: 0.9805 - val_loss: 3.7961 - val_accuracy: 0.7325\n",
      "Epoch 46/50\n",
      "125/125 [==============================] - 5s 40ms/step - loss: 0.0821 - accuracy: 0.9830 - val_loss: 2.3424 - val_accuracy: 0.7075\n",
      "Epoch 47/50\n",
      "125/125 [==============================] - 5s 40ms/step - loss: 0.0515 - accuracy: 0.9825 - val_loss: 2.9675 - val_accuracy: 0.6750\n",
      "Epoch 48/50\n",
      "125/125 [==============================] - 5s 40ms/step - loss: 0.0525 - accuracy: 0.9860 - val_loss: 2.0700 - val_accuracy: 0.7312\n",
      "Epoch 49/50\n",
      "125/125 [==============================] - 5s 40ms/step - loss: 0.0858 - accuracy: 0.9800 - val_loss: 2.7179 - val_accuracy: 0.7312\n",
      "Epoch 50/50\n",
      "125/125 [==============================] - 5s 40ms/step - loss: 0.0440 - accuracy: 0.9865 - val_loss: 3.5234 - val_accuracy: 0.7450\n"
     ]
    }
   ],
   "source": [
    "# fit the base model\n",
    "epochs = 50\n",
    "history = base_model.fit(\n",
    "    train_dataset,\n",
    "    steps_per_epoch=nb_train_samples // batch_size,\n",
    "    epochs=epochs,\n",
    "    validation_data=validation_dataset,\n",
    "    validation_steps=nb_validation_samples // batch_size)"
   ]
  },
  {
   "cell_type": "code",
   "execution_count": 32,
   "id": "7003f160",
   "metadata": {},
   "outputs": [],
   "source": [
    "base_model.save_weights('./model_weights/base_model.h5')"
   ]
  },
  {
   "cell_type": "markdown",
   "id": "9db48082",
   "metadata": {},
   "source": [
    "**Base model Performance**:\n",
    "<table>\n",
    "    <tr>\n",
    "        <td>\n",
    "            <b>training_accuracy</b>\n",
    "        </td>\n",
    "        <td>\n",
    "            <b>validation_accuracy</b>\n",
    "        </td>\n",
    "    </tr>\n",
    "    <tr>\n",
    "        <td>\n",
    "            <b>0.9865</b>\n",
    "        </td>  \n",
    "        <td>\n",
    "            <b>0.7450</b>\n",
    "        </td> \n",
    "    </tr>\n",
    "</table>\n",
    "\n",
    "**note here**\n",
    "- `overfitting` is observed due to the amount of data\n",
    "- `BatchNormalization` is helpful. The model only reach `0.69` validation accuracy without `BatchNormalization`"
   ]
  },
  {
   "cell_type": "markdown",
   "id": "d1206dde",
   "metadata": {},
   "source": [
    "## 4. Apply data augmentation to increase the training size"
   ]
  },
  {
   "cell_type": "code",
   "execution_count": 33,
   "id": "56e113d8",
   "metadata": {},
   "outputs": [
    {
     "name": "stdout",
     "output_type": "stream",
     "text": [
      "Found 2000 images belonging to 2 classes.\n",
      "Found 800 images belonging to 2 classes.\n"
     ]
    }
   ],
   "source": [
    "# training data Augmentation\n",
    "train_datagen = ImageDataGenerator(\n",
    "    rescale=1. / 255,\n",
    "    shear_range=0.2,\n",
    "    zoom_range=0.2,\n",
    "    horizontal_flip=True)\n",
    "\n",
    "train_generator = train_datagen.flow_from_directory(\n",
    "    train_data_dir,\n",
    "    target_size=(img_width, img_height),\n",
    "    batch_size=batch_size,\n",
    "    class_mode='categorical')\n",
    "\n",
    "# validation data Augmentation\n",
    "test_datagen = ImageDataGenerator(rescale=1. / 255)\n",
    "validation_generator = test_datagen.flow_from_directory(\n",
    "    validation_data_dir,\n",
    "    target_size=(img_width, img_height),\n",
    "    batch_size=batch_size,\n",
    "    class_mode='categorical')"
   ]
  },
  {
   "cell_type": "markdown",
   "id": "04756ad9",
   "metadata": {},
   "source": [
    "### visualize how the `ImageDataGenerator` work"
   ]
  },
  {
   "cell_type": "code",
   "execution_count": 34,
   "id": "32d6ffcc",
   "metadata": {},
   "outputs": [],
   "source": [
    "# create a sample data generator\n",
    "sample_datagen = ImageDataGenerator(\n",
    "        rotation_range=40,\n",
    "        width_shift_range=0.2,\n",
    "        height_shift_range=0.2,\n",
    "        shear_range=0.2,\n",
    "        zoom_range=0.2,\n",
    "        horizontal_flip=True,\n",
    "        fill_mode='nearest')\n",
    "\n",
    "# load an example image\n",
    "img = load_img('data/train/cats/cat.0.jpg')  # this is a PIL image\n",
    "x = img_to_array(img)  # this is a Numpy array with shape (3, 150, 150)\n",
    "y = x.reshape((1,) + x.shape) # this is a Numpy array with shape (1, 3, 150, 150)\n",
    "\n",
    "datagen_generator = sample_datagen.flow(y, batch_size=1,\n",
    "                          save_to_dir='preview', save_prefix='cat', save_format='jpeg')"
   ]
  },
  {
   "cell_type": "code",
   "execution_count": 35,
   "id": "221d5579",
   "metadata": {},
   "outputs": [
    {
     "data": {
      "image/png": "[encoded data removed]",
      "text/plain": [
       "<Figure size 1200x300 with 7 Axes>"
      ]
     },
     "metadata": {},
     "output_type": "display_data"
    }
   ],
   "source": [
    "plt.rc('image', cmap='gray')\n",
    "plt.rc('grid', linewidth=0)\n",
    "plt.rc('xtick', top=False, bottom=False, labelsize='large')\n",
    "plt.rc('ytick', left=False, right=False, labelsize='large')\n",
    "plt.rc('axes', facecolor='F8F8F8', titlesize=\"large\", edgecolor='white')\n",
    "plt.rc('text', color='a8151a')\n",
    "plt.rc('figure', facecolor='F0F0F0')# Matplotlib fonts\n",
    "\n",
    "fig = plt.figure('example of data augmentation', figsize=(12, 3))\n",
    "plt.title('example of data augmentation')\n",
    "plt.xticks([])\n",
    "plt.yticks([])\n",
    "fig.add_subplot(1, 6, 1)\n",
    "plt.imshow(x/255)\n",
    "plt.xlabel('original', color = 'r')\n",
    "plt.xticks([])\n",
    "plt.yticks([])\n",
    "for i in range(5):\n",
    "    for image in datagen_generator.next():\n",
    "        fig.add_subplot(1, 6, i + 2)\n",
    "        plt.imshow(image / 255.0)\n",
    "        plt.xlabel(f'aug_{i + 1}')\n",
    "        plt.xticks([])\n",
    "        plt.yticks([])"
   ]
  },
  {
   "cell_type": "markdown",
   "id": "01ba562d",
   "metadata": {},
   "source": [
    "### 4.1 define the aug_model with the same architecture with the base_model"
   ]
  },
  {
   "cell_type": "code",
   "execution_count": 36,
   "id": "edb71d60",
   "metadata": {},
   "outputs": [],
   "source": [
    "inputs = Input(shape=input_shape)\n",
    "aug_model = final_model(inputs)"
   ]
  },
  {
   "cell_type": "code",
   "execution_count": 37,
   "id": "7f6211a3",
   "metadata": {},
   "outputs": [],
   "source": [
    "# compile the aug_model\n",
    "aug_model.compile(loss='categorical_crossentropy',\n",
    "              optimizer='rmsprop',\n",
    "              metrics=['accuracy'])"
   ]
  },
  {
   "cell_type": "code",
   "execution_count": 38,
   "id": "b9e5ef38",
   "metadata": {},
   "outputs": [
    {
     "name": "stdout",
     "output_type": "stream",
     "text": [
      "Epoch 1/50\n"
     ]
    },
    {
     "name": "stderr",
     "output_type": "stream",
     "text": [
      "/var/folders/yh/_x7knk010_jf8mn6y34t0cnc0000gn/T/ipykernel_37972/2941456260.py:2: UserWarning: `Model.fit_generator` is deprecated and will be removed in a future version. Please use `Model.fit`, which supports generators.\n",
      "  aug_model.fit_generator(\n",
      "2022-10-11 17:49:43.820595: I tensorflow/core/grappler/optimizers/custom_graph_optimizer_registry.cc:114] Plugin optimizer for device_type GPU is enabled.\n"
     ]
    },
    {
     "name": "stdout",
     "output_type": "stream",
     "text": [
      "125/125 [==============================] - ETA: 0s - loss: 1.5066 - accuracy: 0.5475"
     ]
    },
    {
     "name": "stderr",
     "output_type": "stream",
     "text": [
      "2022-10-11 17:49:50.790621: I tensorflow/core/grappler/optimizers/custom_graph_optimizer_registry.cc:114] Plugin optimizer for device_type GPU is enabled.\n"
     ]
    },
    {
     "name": "stdout",
     "output_type": "stream",
     "text": [
      "125/125 [==============================] - 9s 62ms/step - loss: 1.5066 - accuracy: 0.5475 - val_loss: 8.5215 - val_accuracy: 0.5000\n",
      "Epoch 2/50\n",
      "125/125 [==============================] - 8s 60ms/step - loss: 0.7188 - accuracy: 0.6050 - val_loss: 0.8188 - val_accuracy: 0.5962\n",
      "Epoch 3/50\n",
      "125/125 [==============================] - 7s 58ms/step - loss: 0.6880 - accuracy: 0.6135 - val_loss: 0.6627 - val_accuracy: 0.6062\n",
      "Epoch 4/50\n",
      "125/125 [==============================] - 7s 59ms/step - loss: 0.6562 - accuracy: 0.6570 - val_loss: 0.6997 - val_accuracy: 0.6187\n",
      "Epoch 5/50\n",
      "125/125 [==============================] - 8s 60ms/step - loss: 0.6027 - accuracy: 0.6920 - val_loss: 0.8546 - val_accuracy: 0.6425\n",
      "Epoch 6/50\n",
      "125/125 [==============================] - 7s 59ms/step - loss: 0.6252 - accuracy: 0.6820 - val_loss: 0.6379 - val_accuracy: 0.6975\n",
      "Epoch 7/50\n",
      "125/125 [==============================] - 7s 58ms/step - loss: 0.5853 - accuracy: 0.7040 - val_loss: 0.7627 - val_accuracy: 0.6750\n",
      "Epoch 8/50\n",
      "125/125 [==============================] - 7s 58ms/step - loss: 0.5935 - accuracy: 0.7130 - val_loss: 1.1116 - val_accuracy: 0.6463\n",
      "Epoch 9/50\n",
      "125/125 [==============================] - 7s 58ms/step - loss: 0.5579 - accuracy: 0.7355 - val_loss: 0.7067 - val_accuracy: 0.7225\n",
      "Epoch 10/50\n",
      "125/125 [==============================] - 7s 58ms/step - loss: 0.5568 - accuracy: 0.7330 - val_loss: 0.6077 - val_accuracy: 0.7375\n",
      "Epoch 11/50\n",
      "125/125 [==============================] - 7s 58ms/step - loss: 0.5355 - accuracy: 0.7495 - val_loss: 0.5587 - val_accuracy: 0.7500\n",
      "Epoch 12/50\n",
      "125/125 [==============================] - 7s 58ms/step - loss: 0.5677 - accuracy: 0.7530 - val_loss: 0.9993 - val_accuracy: 0.6700\n",
      "Epoch 13/50\n",
      "125/125 [==============================] - 7s 58ms/step - loss: 0.5364 - accuracy: 0.7705 - val_loss: 0.5723 - val_accuracy: 0.7537\n",
      "Epoch 14/50\n",
      "125/125 [==============================] - 7s 58ms/step - loss: 0.5043 - accuracy: 0.7635 - val_loss: 0.5877 - val_accuracy: 0.6750\n",
      "Epoch 15/50\n",
      "125/125 [==============================] - 7s 58ms/step - loss: 0.5144 - accuracy: 0.7660 - val_loss: 0.7451 - val_accuracy: 0.6837\n",
      "Epoch 16/50\n",
      "125/125 [==============================] - 7s 58ms/step - loss: 0.4822 - accuracy: 0.7830 - val_loss: 0.6090 - val_accuracy: 0.7088\n",
      "Epoch 17/50\n",
      "125/125 [==============================] - 7s 58ms/step - loss: 0.4678 - accuracy: 0.7940 - val_loss: 0.6201 - val_accuracy: 0.6937\n",
      "Epoch 18/50\n",
      "125/125 [==============================] - 7s 58ms/step - loss: 0.4925 - accuracy: 0.7865 - val_loss: 2.3760 - val_accuracy: 0.6337\n",
      "Epoch 19/50\n",
      "125/125 [==============================] - 7s 58ms/step - loss: 0.5038 - accuracy: 0.7725 - val_loss: 0.5522 - val_accuracy: 0.7700\n",
      "Epoch 20/50\n",
      "125/125 [==============================] - 7s 58ms/step - loss: 0.4642 - accuracy: 0.7955 - val_loss: 0.5902 - val_accuracy: 0.7262\n",
      "Epoch 21/50\n",
      "125/125 [==============================] - 7s 58ms/step - loss: 0.4728 - accuracy: 0.7900 - val_loss: 0.6199 - val_accuracy: 0.7750\n",
      "Epoch 22/50\n",
      "125/125 [==============================] - 7s 58ms/step - loss: 0.4633 - accuracy: 0.7830 - val_loss: 0.5268 - val_accuracy: 0.7475\n",
      "Epoch 23/50\n",
      "125/125 [==============================] - 7s 58ms/step - loss: 0.4657 - accuracy: 0.7945 - val_loss: 0.6286 - val_accuracy: 0.7025\n",
      "Epoch 24/50\n",
      "125/125 [==============================] - 7s 58ms/step - loss: 0.4356 - accuracy: 0.8165 - val_loss: 0.7997 - val_accuracy: 0.7312\n",
      "Epoch 25/50\n",
      "125/125 [==============================] - 7s 58ms/step - loss: 0.4550 - accuracy: 0.8055 - val_loss: 1.0399 - val_accuracy: 0.6975\n",
      "Epoch 26/50\n",
      "125/125 [==============================] - 7s 58ms/step - loss: 0.4470 - accuracy: 0.8185 - val_loss: 0.5697 - val_accuracy: 0.6887\n",
      "Epoch 27/50\n",
      "125/125 [==============================] - 7s 58ms/step - loss: 0.4431 - accuracy: 0.8005 - val_loss: 1.8138 - val_accuracy: 0.6538\n",
      "Epoch 28/50\n",
      "125/125 [==============================] - 7s 58ms/step - loss: 0.4380 - accuracy: 0.8000 - val_loss: 0.6678 - val_accuracy: 0.7662\n",
      "Epoch 29/50\n",
      "125/125 [==============================] - 7s 58ms/step - loss: 0.4413 - accuracy: 0.8085 - val_loss: 0.5788 - val_accuracy: 0.7862\n",
      "Epoch 30/50\n",
      "125/125 [==============================] - 7s 58ms/step - loss: 0.4677 - accuracy: 0.8060 - val_loss: 0.8764 - val_accuracy: 0.6875\n",
      "Epoch 31/50\n",
      "125/125 [==============================] - 7s 58ms/step - loss: 0.4229 - accuracy: 0.8280 - val_loss: 0.5680 - val_accuracy: 0.7775\n",
      "Epoch 32/50\n",
      "125/125 [==============================] - 7s 59ms/step - loss: 0.3932 - accuracy: 0.8405 - val_loss: 0.6372 - val_accuracy: 0.7312\n",
      "Epoch 33/50\n",
      "125/125 [==============================] - 7s 59ms/step - loss: 0.4200 - accuracy: 0.8245 - val_loss: 0.7535 - val_accuracy: 0.7837\n",
      "Epoch 34/50\n",
      "125/125 [==============================] - 7s 58ms/step - loss: 0.4116 - accuracy: 0.8300 - val_loss: 0.6712 - val_accuracy: 0.6937\n",
      "Epoch 35/50\n",
      "125/125 [==============================] - 7s 58ms/step - loss: 0.4374 - accuracy: 0.8165 - val_loss: 0.7214 - val_accuracy: 0.7437\n",
      "Epoch 36/50\n",
      "125/125 [==============================] - 7s 58ms/step - loss: 0.3801 - accuracy: 0.8395 - val_loss: 0.6634 - val_accuracy: 0.7812\n",
      "Epoch 37/50\n",
      "125/125 [==============================] - 7s 59ms/step - loss: 0.3742 - accuracy: 0.8520 - val_loss: 0.9252 - val_accuracy: 0.7088\n",
      "Epoch 38/50\n",
      "125/125 [==============================] - 7s 58ms/step - loss: 0.3878 - accuracy: 0.8270 - val_loss: 0.7132 - val_accuracy: 0.7537\n",
      "Epoch 39/50\n",
      "125/125 [==============================] - 7s 58ms/step - loss: 0.3671 - accuracy: 0.8335 - val_loss: 0.7264 - val_accuracy: 0.7875\n",
      "Epoch 40/50\n",
      "125/125 [==============================] - 7s 59ms/step - loss: 0.3976 - accuracy: 0.8475 - val_loss: 0.6645 - val_accuracy: 0.8000\n",
      "Epoch 41/50\n",
      "125/125 [==============================] - 7s 59ms/step - loss: 0.3613 - accuracy: 0.8595 - val_loss: 1.0628 - val_accuracy: 0.7150\n",
      "Epoch 42/50\n",
      "125/125 [==============================] - 7s 58ms/step - loss: 0.3413 - accuracy: 0.8520 - val_loss: 1.0911 - val_accuracy: 0.8000\n",
      "Epoch 43/50\n",
      "125/125 [==============================] - 7s 58ms/step - loss: 0.3782 - accuracy: 0.8510 - val_loss: 0.7916 - val_accuracy: 0.7512\n",
      "Epoch 44/50\n",
      "125/125 [==============================] - 7s 58ms/step - loss: 0.3827 - accuracy: 0.8470 - val_loss: 0.6843 - val_accuracy: 0.7113\n",
      "Epoch 45/50\n",
      "125/125 [==============================] - 7s 59ms/step - loss: 0.3662 - accuracy: 0.8645 - val_loss: 1.3890 - val_accuracy: 0.7675\n",
      "Epoch 46/50\n",
      "125/125 [==============================] - 7s 58ms/step - loss: 0.3672 - accuracy: 0.8550 - val_loss: 0.7460 - val_accuracy: 0.7750\n",
      "Epoch 47/50\n",
      "125/125 [==============================] - 7s 59ms/step - loss: 0.3447 - accuracy: 0.8615 - val_loss: 0.8718 - val_accuracy: 0.7925\n",
      "Epoch 48/50\n",
      "125/125 [==============================] - 7s 58ms/step - loss: 0.3520 - accuracy: 0.8625 - val_loss: 0.8375 - val_accuracy: 0.7887\n",
      "Epoch 49/50\n",
      "125/125 [==============================] - 7s 59ms/step - loss: 0.3613 - accuracy: 0.8615 - val_loss: 0.9427 - val_accuracy: 0.7775\n",
      "Epoch 50/50\n",
      "125/125 [==============================] - 7s 58ms/step - loss: 0.3516 - accuracy: 0.8655 - val_loss: 1.0605 - val_accuracy: 0.7738\n"
     ]
    },
    {
     "data": {
      "text/plain": [
       "<keras.callbacks.History at 0x2c84d1580>"
      ]
     },
     "execution_count": 38,
     "metadata": {},
     "output_type": "execute_result"
    }
   ],
   "source": [
    "epochs = 50\n",
    "aug_model.fit_generator(\n",
    "    train_generator,\n",
    "    steps_per_epoch=nb_train_samples // batch_size,\n",
    "    epochs=epochs,\n",
    "    validation_data=validation_generator,\n",
    "    validation_steps=nb_validation_samples // batch_size)"
   ]
  },
  {
   "cell_type": "code",
   "execution_count": 39,
   "id": "1f670ae3",
   "metadata": {},
   "outputs": [],
   "source": [
    "aug_model.save_weights('./models/aug_model.h5')"
   ]
  },
  {
   "cell_type": "markdown",
   "id": "219d2dc6",
   "metadata": {},
   "source": [
    "**Base model with data augmentation Performance**:\n",
    "<table>\n",
    "    <tr>\n",
    "        <td>\n",
    "            <b>training_accuracy</b>\n",
    "        </td>\n",
    "         <td>\n",
    "            <b>validation_accuracy</b>\n",
    "        </td>\n",
    "    </tr>\n",
    "    <tr>\n",
    "        <td>\n",
    "            <b>0.8655</b>\n",
    "        </td>  \n",
    "        <td>\n",
    "            <b>0.7738</b>\n",
    "        </td> \n",
    "    </tr>\n",
    "</table>\n",
    "\n",
    "**note here**\n",
    "- `overfitting` is remedy somewhat and the validation accuract reach 80%\n",
    "- the variance of the validation accuracy is fairly high, both because accuracy is a high-variance metric and because we only use 800 validation samples. A good validation strategy in such cases would be to do k-fold cross-validation, but this would require training k models for every evaluation round"
   ]
  },
  {
   "cell_type": "markdown",
   "id": "4ad2da4d",
   "metadata": {},
   "source": [
    "## 5. Using the bottleneck features of a pre-trained network\n",
    "- will use the VGG16 architecture, pre-trained on the ImageNet dataset \n",
    "1. only instantiate the convolutional part of the model, everything up to the fully-connected layers\n",
    "2. run this model on our training and validation data once, recording the output (the \"bottleneck features\" from th VGG16 model: the last activation maps before the fully-connected layers) in two numpy arrays\n",
    "3. Then we will train a small fully-connected model on top of the stored features.\n",
    "\n",
    "The reason why we are storing the features offline rather than adding our fully-connected model directly on top of a frozen convolutional base and running the whole thing, is computational effiency."
   ]
  },
  {
   "cell_type": "code",
   "execution_count": 40,
   "id": "bf4e33ca",
   "metadata": {},
   "outputs": [],
   "source": [
    "VGG_model = applications.VGG16(include_top=False, weights='imagenet')"
   ]
  },
  {
   "cell_type": "code",
   "execution_count": 48,
   "id": "d99bb9a8",
   "metadata": {},
   "outputs": [
    {
     "name": "stdout",
     "output_type": "stream",
     "text": [
      "Found 2000 images belonging to 2 classes.\n",
      "125/125 [==============================] - 10s 80ms/step\n",
      "Found 800 images belonging to 2 classes.\n",
      "50/50 [==============================] - 4s 80ms/step\n"
     ]
    }
   ],
   "source": [
    "datagen = ImageDataGenerator(rescale=1. / 255)\n",
    "\n",
    "train_generator = datagen.flow_from_directory(\n",
    "        'data/train',\n",
    "        target_size=(150, 150),\n",
    "        batch_size=batch_size,\n",
    "        class_mode='categorical',  # this means our generator will only yield batches of data, no labels\n",
    "        shuffle=False) # dont shuffle it because we need to create label manually\n",
    "\n",
    "bottleneck_features_train = VGG_model.predict(train_generator, nb_train_samples // batch_size)\n",
    "\n",
    "# np.save(open('bottleneck_features_train.npy', 'wb'), bottleneck_features_train)\n",
    "\n",
    "test_generator = datagen.flow_from_directory(\n",
    "        validation_data_dir,\n",
    "        target_size=(img_width, img_height),\n",
    "        batch_size=batch_size,\n",
    "        class_mode='categorical',\n",
    "        shuffle=False)\n",
    "\n",
    "bottleneck_features_validation = VGG_model.predict(test_generator, nb_validation_samples // batch_size)\n",
    "\n",
    "# np.save(open('bottleneck_features_validation.npy', 'wb'), bottleneck_features_validation)"
   ]
  },
  {
   "cell_type": "code",
   "execution_count": 50,
   "id": "e34f60ba",
   "metadata": {},
   "outputs": [],
   "source": [
    "# train_data = np.load(open('bottleneck_features_train.npy'))\n",
    "train_labels = np.array([[0, 1]] * (nb_train_samples // 2) + [[1, 0]] * (nb_train_samples // 2))\n",
    "validation_labels = np.array([[0, 1]] * (nb_validation_samples // 2) + [[1, 0]] * (nb_validation_samples // 2))"
   ]
  },
  {
   "cell_type": "code",
   "execution_count": 52,
   "id": "d7b4fd82",
   "metadata": {},
   "outputs": [],
   "source": [
    "# define the topping layer to train the bottleneck features\n",
    "def top_layers(inputs):\n",
    "    \n",
    "    x = Flatten()(inputs)\n",
    "    x = Dense(256, 'relu')(x)\n",
    "    x = Dropout(0.5)(x)\n",
    "    x = Dense(2, 'sigmoid')(x)\n",
    "    \n",
    "    top_model = Model(inputs=inputs, outputs=x)\n",
    "    return top_model"
   ]
  },
  {
   "cell_type": "code",
   "execution_count": 53,
   "id": "ab082480",
   "metadata": {},
   "outputs": [],
   "source": [
    "# get the bottleneck output as the input of the top_model\n",
    "inputs = Input(shape=bottleneck_features_train.shape[1:])\n",
    "top_model = top_layers(inputs)\n",
    "top_model.compile(optimizer='rmsprop',loss='categorical_crossentropy', metrics=['accuracy'])"
   ]
  },
  {
   "cell_type": "code",
   "execution_count": 54,
   "id": "8f79ce6a",
   "metadata": {},
   "outputs": [
    {
     "name": "stdout",
     "output_type": "stream",
     "text": [
      "Epoch 1/50\n"
     ]
    },
    {
     "name": "stderr",
     "output_type": "stream",
     "text": [
      "2022-10-11 18:00:00.711525: I tensorflow/core/grappler/optimizers/custom_graph_optimizer_registry.cc:114] Plugin optimizer for device_type GPU is enabled.\n"
     ]
    },
    {
     "name": "stdout",
     "output_type": "stream",
     "text": [
      "125/125 [==============================] - 2s 10ms/step - loss: 0.7384 - accuracy: 0.7720 - val_loss: 0.2619 - val_accuracy: 0.8912\n",
      "Epoch 2/50\n"
     ]
    },
    {
     "name": "stderr",
     "output_type": "stream",
     "text": [
      "2022-10-11 18:00:01.988604: I tensorflow/core/grappler/optimizers/custom_graph_optimizer_registry.cc:114] Plugin optimizer for device_type GPU is enabled.\n"
     ]
    },
    {
     "name": "stdout",
     "output_type": "stream",
     "text": [
      "125/125 [==============================] - 1s 9ms/step - loss: 0.3533 - accuracy: 0.8490 - val_loss: 0.2991 - val_accuracy: 0.8737\n",
      "Epoch 3/50\n",
      "125/125 [==============================] - 1s 9ms/step - loss: 0.2995 - accuracy: 0.8920 - val_loss: 0.3981 - val_accuracy: 0.8450\n",
      "Epoch 4/50\n",
      "125/125 [==============================] - 1s 9ms/step - loss: 0.2612 - accuracy: 0.9010 - val_loss: 0.2487 - val_accuracy: 0.9025\n",
      "Epoch 5/50\n",
      "125/125 [==============================] - 1s 9ms/step - loss: 0.2227 - accuracy: 0.9245 - val_loss: 0.2766 - val_accuracy: 0.9000\n",
      "Epoch 6/50\n",
      "125/125 [==============================] - 1s 9ms/step - loss: 0.1910 - accuracy: 0.9320 - val_loss: 0.3703 - val_accuracy: 0.8812\n",
      "Epoch 7/50\n",
      "125/125 [==============================] - 1s 9ms/step - loss: 0.1822 - accuracy: 0.9325 - val_loss: 0.7302 - val_accuracy: 0.8125\n",
      "Epoch 8/50\n",
      "125/125 [==============================] - 1s 9ms/step - loss: 0.1538 - accuracy: 0.9450 - val_loss: 0.4582 - val_accuracy: 0.8600\n",
      "Epoch 9/50\n",
      "125/125 [==============================] - 1s 9ms/step - loss: 0.1361 - accuracy: 0.9490 - val_loss: 0.8739 - val_accuracy: 0.8112\n",
      "Epoch 10/50\n",
      "125/125 [==============================] - 1s 9ms/step - loss: 0.1115 - accuracy: 0.9605 - val_loss: 0.4139 - val_accuracy: 0.8837\n",
      "Epoch 11/50\n",
      "125/125 [==============================] - 1s 9ms/step - loss: 0.0924 - accuracy: 0.9705 - val_loss: 0.4624 - val_accuracy: 0.8963\n",
      "Epoch 12/50\n",
      "125/125 [==============================] - 1s 9ms/step - loss: 0.0801 - accuracy: 0.9700 - val_loss: 0.4347 - val_accuracy: 0.8937\n",
      "Epoch 13/50\n",
      "125/125 [==============================] - 1s 9ms/step - loss: 0.0699 - accuracy: 0.9740 - val_loss: 0.7061 - val_accuracy: 0.8625\n",
      "Epoch 14/50\n",
      "125/125 [==============================] - 1s 9ms/step - loss: 0.0817 - accuracy: 0.9755 - val_loss: 0.4948 - val_accuracy: 0.8988\n",
      "Epoch 15/50\n",
      "125/125 [==============================] - 1s 9ms/step - loss: 0.0569 - accuracy: 0.9810 - val_loss: 0.4809 - val_accuracy: 0.9000\n",
      "Epoch 16/50\n",
      "125/125 [==============================] - 1s 9ms/step - loss: 0.0471 - accuracy: 0.9840 - val_loss: 0.5514 - val_accuracy: 0.8900\n",
      "Epoch 17/50\n",
      "125/125 [==============================] - 1s 9ms/step - loss: 0.0553 - accuracy: 0.9815 - val_loss: 0.6362 - val_accuracy: 0.9013\n",
      "Epoch 18/50\n",
      "125/125 [==============================] - 1s 9ms/step - loss: 0.0307 - accuracy: 0.9865 - val_loss: 0.7555 - val_accuracy: 0.8812\n",
      "Epoch 19/50\n",
      "125/125 [==============================] - 1s 9ms/step - loss: 0.0336 - accuracy: 0.9920 - val_loss: 0.7210 - val_accuracy: 0.8937\n",
      "Epoch 20/50\n",
      "125/125 [==============================] - 1s 9ms/step - loss: 0.0397 - accuracy: 0.9865 - val_loss: 0.8538 - val_accuracy: 0.8775\n",
      "Epoch 21/50\n",
      "125/125 [==============================] - 1s 9ms/step - loss: 0.0273 - accuracy: 0.9935 - val_loss: 0.9469 - val_accuracy: 0.8687\n",
      "Epoch 22/50\n",
      "125/125 [==============================] - 1s 9ms/step - loss: 0.0342 - accuracy: 0.9905 - val_loss: 0.8044 - val_accuracy: 0.8875\n",
      "Epoch 23/50\n",
      "125/125 [==============================] - 1s 9ms/step - loss: 0.0419 - accuracy: 0.9900 - val_loss: 0.9552 - val_accuracy: 0.8675\n",
      "Epoch 24/50\n",
      "125/125 [==============================] - 1s 9ms/step - loss: 0.0211 - accuracy: 0.9940 - val_loss: 0.9198 - val_accuracy: 0.8887\n",
      "Epoch 25/50\n",
      "125/125 [==============================] - 1s 9ms/step - loss: 0.0283 - accuracy: 0.9920 - val_loss: 0.9444 - val_accuracy: 0.8875\n",
      "Epoch 26/50\n",
      "125/125 [==============================] - 1s 9ms/step - loss: 0.0261 - accuracy: 0.9925 - val_loss: 0.8576 - val_accuracy: 0.8975\n",
      "Epoch 27/50\n",
      "125/125 [==============================] - 1s 9ms/step - loss: 0.0306 - accuracy: 0.9920 - val_loss: 1.0182 - val_accuracy: 0.8812\n",
      "Epoch 28/50\n",
      "125/125 [==============================] - 1s 9ms/step - loss: 0.0320 - accuracy: 0.9895 - val_loss: 1.0546 - val_accuracy: 0.8762\n",
      "Epoch 29/50\n",
      "125/125 [==============================] - 1s 9ms/step - loss: 0.0160 - accuracy: 0.9935 - val_loss: 1.2049 - val_accuracy: 0.8625\n",
      "Epoch 30/50\n",
      "125/125 [==============================] - 1s 9ms/step - loss: 0.0297 - accuracy: 0.9930 - val_loss: 1.1228 - val_accuracy: 0.8762\n",
      "Epoch 31/50\n",
      "125/125 [==============================] - 1s 9ms/step - loss: 0.0130 - accuracy: 0.9960 - val_loss: 0.9228 - val_accuracy: 0.8988\n",
      "Epoch 32/50\n",
      "125/125 [==============================] - 1s 9ms/step - loss: 0.0213 - accuracy: 0.9955 - val_loss: 1.2128 - val_accuracy: 0.8812\n",
      "Epoch 33/50\n",
      "125/125 [==============================] - 1s 9ms/step - loss: 0.0135 - accuracy: 0.9965 - val_loss: 1.3245 - val_accuracy: 0.8775\n",
      "Epoch 34/50\n",
      "125/125 [==============================] - 1s 9ms/step - loss: 0.0166 - accuracy: 0.9955 - val_loss: 1.0292 - val_accuracy: 0.8988\n",
      "Epoch 35/50\n",
      "125/125 [==============================] - 1s 10ms/step - loss: 0.0217 - accuracy: 0.9915 - val_loss: 0.9935 - val_accuracy: 0.9050\n",
      "Epoch 36/50\n",
      "125/125 [==============================] - 1s 10ms/step - loss: 0.0176 - accuracy: 0.9945 - val_loss: 1.3579 - val_accuracy: 0.8750\n",
      "Epoch 37/50\n",
      "125/125 [==============================] - 1s 9ms/step - loss: 0.0196 - accuracy: 0.9960 - val_loss: 1.8038 - val_accuracy: 0.8550\n",
      "Epoch 38/50\n",
      "125/125 [==============================] - 1s 9ms/step - loss: 0.0219 - accuracy: 0.9965 - val_loss: 1.2357 - val_accuracy: 0.8900\n",
      "Epoch 39/50\n",
      "125/125 [==============================] - 1s 9ms/step - loss: 0.0181 - accuracy: 0.9940 - val_loss: 1.3257 - val_accuracy: 0.8837\n",
      "Epoch 40/50\n",
      "125/125 [==============================] - 1s 9ms/step - loss: 0.0184 - accuracy: 0.9960 - val_loss: 1.2403 - val_accuracy: 0.8875\n",
      "Epoch 41/50\n",
      "125/125 [==============================] - 1s 9ms/step - loss: 0.0094 - accuracy: 0.9970 - val_loss: 1.0833 - val_accuracy: 0.9013\n",
      "Epoch 42/50\n",
      "125/125 [==============================] - 1s 9ms/step - loss: 0.0162 - accuracy: 0.9945 - val_loss: 1.5879 - val_accuracy: 0.8812\n",
      "Epoch 43/50\n",
      "125/125 [==============================] - 1s 9ms/step - loss: 0.0060 - accuracy: 0.9980 - val_loss: 1.5295 - val_accuracy: 0.8750\n",
      "Epoch 44/50\n",
      "125/125 [==============================] - 1s 9ms/step - loss: 0.0083 - accuracy: 0.9985 - val_loss: 2.0817 - val_accuracy: 0.8475\n",
      "Epoch 45/50\n",
      "125/125 [==============================] - 1s 9ms/step - loss: 0.0337 - accuracy: 0.9940 - val_loss: 1.3557 - val_accuracy: 0.8963\n",
      "Epoch 46/50\n",
      "125/125 [==============================] - 1s 9ms/step - loss: 0.0208 - accuracy: 0.9940 - val_loss: 1.3774 - val_accuracy: 0.8925\n",
      "Epoch 47/50\n",
      "125/125 [==============================] - 1s 9ms/step - loss: 0.0057 - accuracy: 0.9985 - val_loss: 1.3306 - val_accuracy: 0.9000\n",
      "Epoch 48/50\n",
      "125/125 [==============================] - 1s 9ms/step - loss: 0.0082 - accuracy: 0.9985 - val_loss: 1.8340 - val_accuracy: 0.8712\n",
      "Epoch 49/50\n",
      "125/125 [==============================] - 1s 9ms/step - loss: 0.0011 - accuracy: 0.9995 - val_loss: 2.0919 - val_accuracy: 0.8525\n",
      "Epoch 50/50\n",
      "125/125 [==============================] - 1s 9ms/step - loss: 0.0183 - accuracy: 0.9975 - val_loss: 1.7452 - val_accuracy: 0.8750\n"
     ]
    },
    {
     "data": {
      "text/plain": [
       "<keras.callbacks.History at 0x2c835ddf0>"
      ]
     },
     "execution_count": 54,
     "metadata": {},
     "output_type": "execute_result"
    }
   ],
   "source": [
    "top_model.fit(bottleneck_features_train, train_labels,\n",
    "              epochs=epochs,\n",
    "              batch_size=batch_size,\n",
    "              validation_data=(bottleneck_features_validation, validation_labels))"
   ]
  },
  {
   "cell_type": "code",
   "execution_count": 55,
   "id": "759975ed",
   "metadata": {},
   "outputs": [],
   "source": [
    "top_model.save_weights('./model_weights/VGG_bottleneck_top_model.h5')"
   ]
  },
  {
   "cell_type": "markdown",
   "id": "14cc24ef",
   "metadata": {},
   "source": [
    "**VGG model with bottleneck feature Performance**:\n",
    "<table>\n",
    "    <tr>\n",
    "        <td>\n",
    "            <b>training_accuracy</b>\n",
    "        </td>\n",
    "         <td>\n",
    "            <b>validation_accuracy</b>\n",
    "        </td>\n",
    "    </tr>\n",
    "    <tr>\n",
    "        <td>\n",
    "            <b>0.9975</b>\n",
    "        </td>  \n",
    "        <td>\n",
    "            <b>0.8750</b>\n",
    "        </td> \n",
    "    </tr>\n",
    "</table>\n",
    "\n",
    "**note here**\n",
    "- `overfitting` is further remedy somewhat and the validation accuract reach 90%\n",
    "-  This is definitely partly due to the fact that the base model was trained on a dataset that already featured dogs and cats (among hundreds of other classes)."
   ]
  },
  {
   "cell_type": "markdown",
   "id": "dd9dad19",
   "metadata": {},
   "source": [
    "## 6. Fine-tuning the top layers of a a pre-trained network\n",
    "To further improve our previous result, we can try to \"fine-tune\" the last convolutional block of the VGG16 model alongside the top-level classifier\n",
    "\n",
    "- instantiate the convolutional base of VGG16 and load its weights\n",
    "- add our previously defined fully-connected model on top, and load its weights\n",
    "- freeze the layers of the VGG16 model up to the last convolutional block"
   ]
  },
  {
   "cell_type": "code",
   "execution_count": 56,
   "id": "8644596d",
   "metadata": {},
   "outputs": [
    {
     "name": "stdout",
     "output_type": "stream",
     "text": [
      "Model: \"vgg16\"\n",
      "_________________________________________________________________\n",
      " Layer (type)                Output Shape              Param #   \n",
      "=================================================================\n",
      " input_8 (InputLayer)        [(None, 150, 150, 3)]     0         \n",
      "                                                                 \n",
      " block1_conv1 (Conv2D)       (None, 150, 150, 64)      1792      \n",
      "                                                                 \n",
      " block1_conv2 (Conv2D)       (None, 150, 150, 64)      36928     \n",
      "                                                                 \n",
      " block1_pool (MaxPooling2D)  (None, 75, 75, 64)        0         \n",
      "                                                                 \n",
      " block2_conv1 (Conv2D)       (None, 75, 75, 128)       73856     \n",
      "                                                                 \n",
      " block2_conv2 (Conv2D)       (None, 75, 75, 128)       147584    \n",
      "                                                                 \n",
      " block2_pool (MaxPooling2D)  (None, 37, 37, 128)       0         \n",
      "                                                                 \n",
      " block3_conv1 (Conv2D)       (None, 37, 37, 256)       295168    \n",
      "                                                                 \n",
      " block3_conv2 (Conv2D)       (None, 37, 37, 256)       590080    \n",
      "                                                                 \n",
      " block3_conv3 (Conv2D)       (None, 37, 37, 256)       590080    \n",
      "                                                                 \n",
      " block3_pool (MaxPooling2D)  (None, 18, 18, 256)       0         \n",
      "                                                                 \n",
      " block4_conv1 (Conv2D)       (None, 18, 18, 512)       1180160   \n",
      "                                                                 \n",
      " block4_conv2 (Conv2D)       (None, 18, 18, 512)       2359808   \n",
      "                                                                 \n",
      " block4_conv3 (Conv2D)       (None, 18, 18, 512)       2359808   \n",
      "                                                                 \n",
      " block4_pool (MaxPooling2D)  (None, 9, 9, 512)         0         \n",
      "                                                                 \n",
      " block5_conv1 (Conv2D)       (None, 9, 9, 512)         2359808   \n",
      "                                                                 \n",
      " block5_conv2 (Conv2D)       (None, 9, 9, 512)         2359808   \n",
      "                                                                 \n",
      " block5_conv3 (Conv2D)       (None, 9, 9, 512)         2359808   \n",
      "                                                                 \n",
      " block5_pool (MaxPooling2D)  (None, 4, 4, 512)         0         \n",
      "                                                                 \n",
      "=================================================================\n",
      "Total params: 14,714,688\n",
      "Trainable params: 14,714,688\n",
      "Non-trainable params: 0\n",
      "_________________________________________________________________\n"
     ]
    }
   ],
   "source": [
    "VGG_model = applications.VGG16(weights='imagenet', include_top=False, input_shape=(img_height, img_width, 3))\n",
    "VGG_model.summary()\n",
    "for layer in VGG_model.layers[:16]:\n",
    "    layer.trainable = False"
   ]
  },
  {
   "cell_type": "code",
   "execution_count": 57,
   "id": "67897d71",
   "metadata": {},
   "outputs": [],
   "source": [
    "top_model = top_layers(VGG_model.output)\n",
    "top_model.load_weights('./model_weights/VGG_bottleneck_top_model.h5')"
   ]
  },
  {
   "cell_type": "code",
   "execution_count": 58,
   "id": "42f12c86",
   "metadata": {},
   "outputs": [],
   "source": [
    "def final_model():\n",
    "    vgg_output = VGG_model.output\n",
    "    outputs = top_model(vgg_output)\n",
    "    \n",
    "    vgg_final_model = Model(inputs=VGG_model.input, outputs=outputs)\n",
    "    \n",
    "    return vgg_final_model\n",
    "    "
   ]
  },
  {
   "cell_type": "code",
   "execution_count": 59,
   "id": "03ed745c",
   "metadata": {},
   "outputs": [],
   "source": [
    "vgg_final_model = final_model()\n",
    "vgg_final_model.compile(loss='categorical_crossentropy',\n",
    "              optimizer=tf.keras.optimizers.SGD(learning_rate=1e-4, momentum=0.9),\n",
    "              metrics=['accuracy'])"
   ]
  },
  {
   "cell_type": "code",
   "execution_count": 61,
   "id": "58b8aab5",
   "metadata": {},
   "outputs": [
    {
     "name": "stdout",
     "output_type": "stream",
     "text": [
      "Found 2000 images belonging to 2 classes.\n",
      "Found 800 images belonging to 2 classes.\n"
     ]
    }
   ],
   "source": [
    "# training data Augmentation\n",
    "train_datagen = ImageDataGenerator(\n",
    "    rescale=1. / 255,\n",
    "    shear_range=0.2,\n",
    "    zoom_range=0.2,\n",
    "    horizontal_flip=True)\n",
    "\n",
    "train_generator = train_datagen.flow_from_directory(\n",
    "    train_data_dir,\n",
    "    target_size=(img_width, img_height),\n",
    "    batch_size=batch_size,\n",
    "    class_mode='categorical')\n",
    "\n",
    "# validation data Augmentation\n",
    "test_datagen = ImageDataGenerator(rescale=1. / 255)\n",
    "validation_generator = test_datagen.flow_from_directory(\n",
    "    validation_data_dir,\n",
    "    target_size=(img_width, img_height),\n",
    "    batch_size=batch_size,\n",
    "    class_mode='categorical')"
   ]
  },
  {
   "cell_type": "code",
   "execution_count": 62,
   "id": "631f2945",
   "metadata": {},
   "outputs": [
    {
     "name": "stdout",
     "output_type": "stream",
     "text": [
      "Epoch 1/50\n"
     ]
    },
    {
     "name": "stderr",
     "output_type": "stream",
     "text": [
      "/var/folders/yh/_x7knk010_jf8mn6y34t0cnc0000gn/T/ipykernel_37972/538421770.py:1: UserWarning: `Model.fit_generator` is deprecated and will be removed in a future version. Please use `Model.fit`, which supports generators.\n",
      "  vgg_final_model.fit_generator(\n",
      "2022-10-11 18:01:48.017248: I tensorflow/core/grappler/optimizers/custom_graph_optimizer_registry.cc:114] Plugin optimizer for device_type GPU is enabled.\n"
     ]
    },
    {
     "name": "stdout",
     "output_type": "stream",
     "text": [
      "125/125 [==============================] - ETA: 0s - loss: 1.7472 - accuracy: 0.6350"
     ]
    },
    {
     "name": "stderr",
     "output_type": "stream",
     "text": [
      "2022-10-11 18:02:00.132359: I tensorflow/core/grappler/optimizers/custom_graph_optimizer_registry.cc:114] Plugin optimizer for device_type GPU is enabled.\n"
     ]
    },
    {
     "name": "stdout",
     "output_type": "stream",
     "text": [
      "125/125 [==============================] - 16s 128ms/step - loss: 1.7472 - accuracy: 0.6350 - val_loss: 0.4803 - val_accuracy: 0.7775\n",
      "Epoch 2/50\n",
      "125/125 [==============================] - 16s 127ms/step - loss: 0.4621 - accuracy: 0.7860 - val_loss: 0.3908 - val_accuracy: 0.8425\n",
      "Epoch 3/50\n",
      "125/125 [==============================] - 16s 127ms/step - loss: 0.4304 - accuracy: 0.8005 - val_loss: 0.3496 - val_accuracy: 0.8687\n",
      "Epoch 4/50\n",
      "125/125 [==============================] - 16s 127ms/step - loss: 0.3683 - accuracy: 0.8350 - val_loss: 0.3145 - val_accuracy: 0.8762\n",
      "Epoch 5/50\n",
      "125/125 [==============================] - 16s 127ms/step - loss: 0.3142 - accuracy: 0.8805 - val_loss: 0.2862 - val_accuracy: 0.8875\n",
      "Epoch 6/50\n",
      "125/125 [==============================] - 16s 127ms/step - loss: 0.3041 - accuracy: 0.8750 - val_loss: 0.3147 - val_accuracy: 0.8625\n",
      "Epoch 7/50\n",
      "125/125 [==============================] - 16s 127ms/step - loss: 0.2987 - accuracy: 0.8720 - val_loss: 0.2615 - val_accuracy: 0.8937\n",
      "Epoch 8/50\n",
      "125/125 [==============================] - 16s 127ms/step - loss: 0.2666 - accuracy: 0.8905 - val_loss: 0.2730 - val_accuracy: 0.8975\n",
      "Epoch 9/50\n",
      "125/125 [==============================] - 16s 126ms/step - loss: 0.2368 - accuracy: 0.9065 - val_loss: 0.2629 - val_accuracy: 0.9013\n",
      "Epoch 10/50\n",
      "125/125 [==============================] - 16s 128ms/step - loss: 0.2430 - accuracy: 0.9035 - val_loss: 0.2438 - val_accuracy: 0.9013\n",
      "Epoch 11/50\n",
      "125/125 [==============================] - 16s 128ms/step - loss: 0.2157 - accuracy: 0.9170 - val_loss: 0.2769 - val_accuracy: 0.8925\n",
      "Epoch 12/50\n",
      "125/125 [==============================] - 16s 127ms/step - loss: 0.2176 - accuracy: 0.9095 - val_loss: 0.2320 - val_accuracy: 0.9013\n",
      "Epoch 13/50\n",
      "125/125 [==============================] - 16s 127ms/step - loss: 0.2051 - accuracy: 0.9165 - val_loss: 0.2411 - val_accuracy: 0.9062\n",
      "Epoch 14/50\n",
      "125/125 [==============================] - 16s 127ms/step - loss: 0.1912 - accuracy: 0.9255 - val_loss: 0.2483 - val_accuracy: 0.8988\n",
      "Epoch 15/50\n",
      "125/125 [==============================] - 16s 128ms/step - loss: 0.1873 - accuracy: 0.9220 - val_loss: 0.2446 - val_accuracy: 0.8975\n",
      "Epoch 16/50\n",
      "125/125 [==============================] - 16s 127ms/step - loss: 0.1861 - accuracy: 0.9280 - val_loss: 0.2850 - val_accuracy: 0.8800\n",
      "Epoch 17/50\n",
      "125/125 [==============================] - 16s 128ms/step - loss: 0.1792 - accuracy: 0.9290 - val_loss: 0.2266 - val_accuracy: 0.9087\n",
      "Epoch 18/50\n",
      "125/125 [==============================] - 16s 127ms/step - loss: 0.1589 - accuracy: 0.9390 - val_loss: 0.2209 - val_accuracy: 0.9075\n",
      "Epoch 19/50\n",
      "125/125 [==============================] - 16s 127ms/step - loss: 0.1679 - accuracy: 0.9365 - val_loss: 0.2218 - val_accuracy: 0.9075\n",
      "Epoch 20/50\n",
      "125/125 [==============================] - 16s 129ms/step - loss: 0.1472 - accuracy: 0.9425 - val_loss: 0.2144 - val_accuracy: 0.9112\n",
      "Epoch 21/50\n",
      "125/125 [==============================] - 17s 134ms/step - loss: 0.1491 - accuracy: 0.9425 - val_loss: 0.2280 - val_accuracy: 0.9025\n",
      "Epoch 22/50\n",
      "125/125 [==============================] - 16s 130ms/step - loss: 0.1325 - accuracy: 0.9540 - val_loss: 0.2125 - val_accuracy: 0.9125\n",
      "Epoch 23/50\n",
      "125/125 [==============================] - 16s 131ms/step - loss: 0.1315 - accuracy: 0.9540 - val_loss: 0.2837 - val_accuracy: 0.8887\n",
      "Epoch 24/50\n",
      "125/125 [==============================] - 16s 129ms/step - loss: 0.1298 - accuracy: 0.9485 - val_loss: 0.2184 - val_accuracy: 0.9150\n",
      "Epoch 25/50\n",
      "125/125 [==============================] - 16s 131ms/step - loss: 0.1155 - accuracy: 0.9565 - val_loss: 0.2339 - val_accuracy: 0.9050\n",
      "Epoch 26/50\n",
      "125/125 [==============================] - 16s 131ms/step - loss: 0.1206 - accuracy: 0.9560 - val_loss: 0.2397 - val_accuracy: 0.9000\n",
      "Epoch 27/50\n",
      "125/125 [==============================] - 16s 129ms/step - loss: 0.1273 - accuracy: 0.9480 - val_loss: 0.2206 - val_accuracy: 0.9150\n",
      "Epoch 28/50\n",
      "125/125 [==============================] - 16s 130ms/step - loss: 0.1259 - accuracy: 0.9500 - val_loss: 0.2229 - val_accuracy: 0.9100\n",
      "Epoch 29/50\n",
      "125/125 [==============================] - 16s 130ms/step - loss: 0.1046 - accuracy: 0.9590 - val_loss: 0.2179 - val_accuracy: 0.9175\n",
      "Epoch 30/50\n",
      "125/125 [==============================] - 16s 130ms/step - loss: 0.1006 - accuracy: 0.9655 - val_loss: 0.2241 - val_accuracy: 0.9112\n",
      "Epoch 31/50\n",
      "125/125 [==============================] - 16s 130ms/step - loss: 0.0938 - accuracy: 0.9630 - val_loss: 0.2680 - val_accuracy: 0.9013\n",
      "Epoch 32/50\n",
      "125/125 [==============================] - 16s 128ms/step - loss: 0.1156 - accuracy: 0.9540 - val_loss: 0.2683 - val_accuracy: 0.9000\n",
      "Epoch 33/50\n",
      "125/125 [==============================] - 16s 127ms/step - loss: 0.1019 - accuracy: 0.9610 - val_loss: 0.2165 - val_accuracy: 0.9150\n",
      "Epoch 34/50\n",
      "125/125 [==============================] - 16s 130ms/step - loss: 0.0946 - accuracy: 0.9685 - val_loss: 0.2294 - val_accuracy: 0.9112\n",
      "Epoch 35/50\n",
      "125/125 [==============================] - 16s 128ms/step - loss: 0.0820 - accuracy: 0.9715 - val_loss: 0.2084 - val_accuracy: 0.9237\n",
      "Epoch 36/50\n",
      "125/125 [==============================] - 16s 130ms/step - loss: 0.0812 - accuracy: 0.9720 - val_loss: 0.2345 - val_accuracy: 0.9200\n",
      "Epoch 37/50\n",
      "125/125 [==============================] - 16s 132ms/step - loss: 0.0755 - accuracy: 0.9730 - val_loss: 0.2225 - val_accuracy: 0.9262\n",
      "Epoch 38/50\n",
      "125/125 [==============================] - 16s 128ms/step - loss: 0.0853 - accuracy: 0.9650 - val_loss: 0.2371 - val_accuracy: 0.9062\n",
      "Epoch 39/50\n",
      "125/125 [==============================] - 16s 128ms/step - loss: 0.0699 - accuracy: 0.9735 - val_loss: 0.2355 - val_accuracy: 0.9087\n",
      "Epoch 40/50\n",
      "125/125 [==============================] - 16s 128ms/step - loss: 0.0600 - accuracy: 0.9790 - val_loss: 0.3103 - val_accuracy: 0.8937\n",
      "Epoch 41/50\n",
      "125/125 [==============================] - 16s 129ms/step - loss: 0.0632 - accuracy: 0.9770 - val_loss: 0.2352 - val_accuracy: 0.9162\n",
      "Epoch 42/50\n",
      "125/125 [==============================] - 16s 129ms/step - loss: 0.0673 - accuracy: 0.9770 - val_loss: 0.2783 - val_accuracy: 0.9000\n",
      "Epoch 43/50\n",
      "125/125 [==============================] - 16s 128ms/step - loss: 0.0588 - accuracy: 0.9785 - val_loss: 0.2389 - val_accuracy: 0.9150\n",
      "Epoch 44/50\n",
      "125/125 [==============================] - 16s 128ms/step - loss: 0.0667 - accuracy: 0.9750 - val_loss: 0.2353 - val_accuracy: 0.9075\n",
      "Epoch 45/50\n",
      "125/125 [==============================] - 16s 128ms/step - loss: 0.0816 - accuracy: 0.9665 - val_loss: 0.3262 - val_accuracy: 0.8900\n",
      "Epoch 46/50\n",
      "125/125 [==============================] - 16s 128ms/step - loss: 0.0707 - accuracy: 0.9710 - val_loss: 0.2227 - val_accuracy: 0.9225\n",
      "Epoch 47/50\n",
      "125/125 [==============================] - 16s 128ms/step - loss: 0.0482 - accuracy: 0.9835 - val_loss: 0.2232 - val_accuracy: 0.9175\n",
      "Epoch 48/50\n",
      "125/125 [==============================] - 16s 128ms/step - loss: 0.0516 - accuracy: 0.9820 - val_loss: 0.3293 - val_accuracy: 0.9025\n",
      "Epoch 49/50\n",
      "125/125 [==============================] - 16s 128ms/step - loss: 0.0442 - accuracy: 0.9860 - val_loss: 0.2575 - val_accuracy: 0.9162\n",
      "Epoch 50/50\n",
      "125/125 [==============================] - 16s 128ms/step - loss: 0.0420 - accuracy: 0.9875 - val_loss: 0.2204 - val_accuracy: 0.9212\n"
     ]
    },
    {
     "data": {
      "text/plain": [
       "<keras.callbacks.History at 0x2dd6deb20>"
      ]
     },
     "execution_count": 62,
     "metadata": {},
     "output_type": "execute_result"
    }
   ],
   "source": [
    "vgg_final_model.fit_generator(\n",
    "    train_generator,\n",
    "    steps_per_epoch=nb_train_samples // batch_size,\n",
    "    epochs=epochs,\n",
    "    validation_data=validation_generator,\n",
    "    validation_steps=nb_validation_samples // batch_size)"
   ]
  },
  {
   "cell_type": "code",
   "execution_count": 63,
   "id": "01cbbcfd",
   "metadata": {},
   "outputs": [],
   "source": [
    "vgg_final_model.save_weights('./model_weights/vgg_final_model_fine_tune.h5')"
   ]
  },
  {
   "cell_type": "markdown",
   "id": "5f8b6013",
   "metadata": {},
   "source": [
    "**VGG model Performance after fine-tune**:\n",
    "<table>\n",
    "    <tr>\n",
    "        <td>\n",
    "            <b>training_accuracy</b>\n",
    "        </td>\n",
    "         <td>\n",
    "            <b>validation_accuracy</b>\n",
    "        </td>\n",
    "    </tr>\n",
    "    <tr>\n",
    "        <td>\n",
    "            <b>0.9875</b>\n",
    "        </td>  \n",
    "        <td>\n",
    "            <b>0.9212</b>\n",
    "        </td> \n",
    "    </tr>\n",
    "</table>\n",
    "\n",
    "**note here**\n",
    "\n",
    "This approach gets us to a validation accuracy of 0.92 after 50 epochs.\n",
    "Here are a few more approaches you can try to get higher accuracy:\n",
    "- more aggresive data augmentation\n",
    "- more aggressive dropout\n",
    "- use of L1 and L2 regularization (also known as \"weight decay\")\n",
    "- fine-tuning one more convolutional block (alongside greater regularization)"
   ]
  },
  {
   "cell_type": "code",
   "execution_count": 64,
   "id": "10cb0d7b",
   "metadata": {},
   "outputs": [],
   "source": [
    "vgg_final_model.save(\"models/vgg_model.h5\")"
   ]
  },
  {
   "cell_type": "markdown",
   "id": "3f512508",
   "metadata": {},
   "source": [
    "## 7. test the model\n",
    "\n",
    "The `test` data includes 400 images for two classes"
   ]
  },
  {
   "cell_type": "code",
   "execution_count": 122,
   "id": "fb1c2ef7",
   "metadata": {},
   "outputs": [
    {
     "name": "stdout",
     "output_type": "stream",
     "text": [
      "Found 400 files belonging to 2 classes.\n"
     ]
    }
   ],
   "source": [
    "# test model\n",
    "test_data = image_dataset_from_directory('./data/test/',\n",
    "                                         shuffle=False,\n",
    "                                         batch_size=batch_size,\n",
    "                                         image_size=(img_width, img_height),\n",
    "                                         label_mode='categorical',\n",
    "                                        )"
   ]
  },
  {
   "cell_type": "code",
   "execution_count": 123,
   "id": "9fb8006d",
   "metadata": {},
   "outputs": [],
   "source": [
    "def format_image(image, label):\n",
    "    \n",
    "    image = tf.cast(image, tf.float32)\n",
    "    image = image / 255.0\n",
    "    \n",
    "    return image, label"
   ]
  },
  {
   "cell_type": "code",
   "execution_count": 124,
   "id": "becd7bd1",
   "metadata": {},
   "outputs": [],
   "source": [
    "test_data = test_data.map(format_image)"
   ]
  },
  {
   "cell_type": "code",
   "execution_count": 126,
   "id": "8105d15e",
   "metadata": {},
   "outputs": [
    {
     "name": "stdout",
     "output_type": "stream",
     "text": [
      "25/25 [==============================] - 2s 84ms/step - loss: 0.1721 - accuracy: 0.9375\n"
     ]
    }
   ],
   "source": [
    "result = vgg_final_model.evaluate(test_data)"
   ]
  },
  {
   "cell_type": "code",
   "execution_count": 129,
   "id": "adec0794",
   "metadata": {},
   "outputs": [
    {
     "name": "stdout",
     "output_type": "stream",
     "text": [
      "The performance on the test set \n",
      "loss: 0.17205654084682465, accuracy: 0.9375\n"
     ]
    }
   ],
   "source": [
    "print(f'The performance on the test set \\nloss: {result[0]}, accuracy: {result[1]}')"
   ]
  }
 ],
 "metadata": {
  "kernelspec": {
   "display_name": "Python 3.9 (tensorflow)",
   "language": "python",
   "name": "tf"
  },
  "language_info": {
   "codemirror_mode": {
    "name": "ipython",
    "version": 3
   },
   "file_extension": ".py",
   "mimetype": "text/x-python",
   "name": "python",
   "nbconvert_exporter": "python",
   "pygments_lexer": "ipython3",
   "version": "3.9.13"
  }
 },
 "nbformat": 4,
 "nbformat_minor": 5
}
